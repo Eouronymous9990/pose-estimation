{
 "cells": [
  {
   "cell_type": "code",
   "execution_count": 18,
   "id": "64625b40",
   "metadata": {},
   "outputs": [],
   "source": [
    "import cv2\n",
    "import mediapipe\n",
    "import numpy as np"
   ]
  },
  {
   "cell_type": "code",
   "execution_count": 19,
   "id": "ae478cb9",
   "metadata": {},
   "outputs": [],
   "source": [
    "\n",
    "fourcc=cv2.VideoWriter_fourcc(*'XVID')\n",
    "\n",
    "out=cv2.VideoWriter(\"handslams\",fourcc,30,(680,800))\n"
   ]
  },
  {
   "cell_type": "code",
   "execution_count": 20,
   "id": "d9f11ce4",
   "metadata": {},
   "outputs": [],
   "source": [
    "\n",
    "mp_pose=mediapipe.solutions.pose\n",
    "\n",
    "mp_f_pose=mp_pose.Pose(min_detection_confidence=.5,min_tracking_confidence=.5)\n",
    "\n",
    "draw=mediapipe.solutions.drawing_utils\n"
   ]
  },
  {
   "cell_type": "code",
   "execution_count": 21,
   "id": "868ff6e2",
   "metadata": {},
   "outputs": [],
   "source": [
    "\n",
    "cap=cv2.VideoCapture(r\"C:\\Users\\zbook 17 g3\\Desktop\\CV PROJECTS\\02.09.2023_20.03.26_REC.mp4\")\n",
    "\n",
    "while 1 :\n",
    "    ret,img=cap.read()\n",
    "    if not ret :\n",
    "        break\n",
    "    img=cv2.cvtColor(img,cv2.COLOR_BGR2RGB)\n",
    "    \n",
    "    results=mp_f_pose.process(img)\n",
    "    \n",
    "\n",
    "    draw.draw_landmarks(img,results.pose_landmarks,mp_pose.POSE_CONNECTIONS)\n",
    "            \n",
    "    out.write(img)\n",
    "    img=cv2.cvtColor(img,cv2.COLOR_RGB2BGR)     \n",
    "    cv2.imshow(\"image\",img)\n",
    "    \n",
    "    \n",
    "    key=cv2.waitKey(1)\n",
    "    if key==ord(\"q\"):\n",
    "        break\n",
    "cap.release() \n",
    "cv2.destroyAllWindows()\n",
    "   "
   ]
  },
  {
   "cell_type": "markdown",
   "id": "639efaf4",
   "metadata": {},
   "source": []
  }
 ],
 "metadata": {
  "kernelspec": {
   "display_name": "Python 3 (ipykernel)",
   "language": "python",
   "name": "python3"
  },
  "language_info": {
   "codemirror_mode": {
    "name": "ipython",
    "version": 3
   },
   "file_extension": ".py",
   "mimetype": "text/x-python",
   "name": "python",
   "nbconvert_exporter": "python",
   "pygments_lexer": "ipython3",
   "version": "3.9.13"
  }
 },
 "nbformat": 4,
 "nbformat_minor": 5
}
